{
  "nbformat": 4,
  "nbformat_minor": 0,
  "metadata": {
    "colab": {
      "name": "Conversion de texte_audio.ipynb",
      "provenance": [],
      "authorship_tag": "ABX9TyNWFpvd/aD3ZsrS3Ifo6hBj",
      "include_colab_link": true
    },
    "kernelspec": {
      "name": "python3",
      "display_name": "Python 3"
    },
    "language_info": {
      "name": "python"
    }
  },
  "cells": [
    {
      "cell_type": "markdown",
      "metadata": {
        "id": "view-in-github",
        "colab_type": "text"
      },
      "source": [
        "<a href=\"https://colab.research.google.com/github/SIDIBEMoussa/Traitement-de-langage-naturelle/blob/main/Conversion_de_texte_audio.ipynb\" target=\"_parent\"><img src=\"https://colab.research.google.com/assets/colab-badge.svg\" alt=\"Open In Colab\"/></a>"
      ]
    },
    {
      "cell_type": "code",
      "metadata": {
        "colab": {
          "base_uri": "https://localhost:8080/"
        },
        "id": "Y2sjWfJcLO-Z",
        "outputId": "1f1667d9-4141-42f0-c2b7-be64b4ffb5f1"
      },
      "source": [
        "!pip install nltk\n",
        "!pip install gtts\n",
        "!pip install newspaper3k"
      ],
      "execution_count": 9,
      "outputs": [
        {
          "output_type": "stream",
          "text": [
            "Requirement already satisfied: nltk in /usr/local/lib/python3.7/dist-packages (3.2.5)\n",
            "Requirement already satisfied: six in /usr/local/lib/python3.7/dist-packages (from nltk) (1.15.0)\n",
            "Requirement already satisfied: gtts in /usr/local/lib/python3.7/dist-packages (2.2.2)\n",
            "Requirement already satisfied: six in /usr/local/lib/python3.7/dist-packages (from gtts) (1.15.0)\n",
            "Requirement already satisfied: click in /usr/local/lib/python3.7/dist-packages (from gtts) (7.1.2)\n",
            "Requirement already satisfied: requests in /usr/local/lib/python3.7/dist-packages (from gtts) (2.23.0)\n",
            "Requirement already satisfied: urllib3!=1.25.0,!=1.25.1,<1.26,>=1.21.1 in /usr/local/lib/python3.7/dist-packages (from requests->gtts) (1.24.3)\n",
            "Requirement already satisfied: certifi>=2017.4.17 in /usr/local/lib/python3.7/dist-packages (from requests->gtts) (2021.5.30)\n",
            "Requirement already satisfied: chardet<4,>=3.0.2 in /usr/local/lib/python3.7/dist-packages (from requests->gtts) (3.0.4)\n",
            "Requirement already satisfied: idna<3,>=2.5 in /usr/local/lib/python3.7/dist-packages (from requests->gtts) (2.10)\n",
            "Requirement already satisfied: newspaper3k in /usr/local/lib/python3.7/dist-packages (0.2.8)\n",
            "Requirement already satisfied: beautifulsoup4>=4.4.1 in /usr/local/lib/python3.7/dist-packages (from newspaper3k) (4.6.3)\n",
            "Requirement already satisfied: requests>=2.10.0 in /usr/local/lib/python3.7/dist-packages (from newspaper3k) (2.23.0)\n",
            "Requirement already satisfied: tldextract>=2.0.1 in /usr/local/lib/python3.7/dist-packages (from newspaper3k) (3.1.0)\n",
            "Requirement already satisfied: feedfinder2>=0.0.4 in /usr/local/lib/python3.7/dist-packages (from newspaper3k) (0.0.4)\n",
            "Requirement already satisfied: feedparser>=5.2.1 in /usr/local/lib/python3.7/dist-packages (from newspaper3k) (6.0.6)\n",
            "Requirement already satisfied: python-dateutil>=2.5.3 in /usr/local/lib/python3.7/dist-packages (from newspaper3k) (2.8.1)\n",
            "Requirement already satisfied: jieba3k>=0.35.1 in /usr/local/lib/python3.7/dist-packages (from newspaper3k) (0.35.1)\n",
            "Requirement already satisfied: nltk>=3.2.1 in /usr/local/lib/python3.7/dist-packages (from newspaper3k) (3.2.5)\n",
            "Requirement already satisfied: cssselect>=0.9.2 in /usr/local/lib/python3.7/dist-packages (from newspaper3k) (1.1.0)\n",
            "Requirement already satisfied: tinysegmenter==0.3 in /usr/local/lib/python3.7/dist-packages (from newspaper3k) (0.3)\n",
            "Requirement already satisfied: Pillow>=3.3.0 in /usr/local/lib/python3.7/dist-packages (from newspaper3k) (7.1.2)\n",
            "Requirement already satisfied: PyYAML>=3.11 in /usr/local/lib/python3.7/dist-packages (from newspaper3k) (3.13)\n",
            "Requirement already satisfied: lxml>=3.6.0 in /usr/local/lib/python3.7/dist-packages (from newspaper3k) (4.2.6)\n",
            "Requirement already satisfied: chardet<4,>=3.0.2 in /usr/local/lib/python3.7/dist-packages (from requests>=2.10.0->newspaper3k) (3.0.4)\n",
            "Requirement already satisfied: idna<3,>=2.5 in /usr/local/lib/python3.7/dist-packages (from requests>=2.10.0->newspaper3k) (2.10)\n",
            "Requirement already satisfied: urllib3!=1.25.0,!=1.25.1,<1.26,>=1.21.1 in /usr/local/lib/python3.7/dist-packages (from requests>=2.10.0->newspaper3k) (1.24.3)\n",
            "Requirement already satisfied: certifi>=2017.4.17 in /usr/local/lib/python3.7/dist-packages (from requests>=2.10.0->newspaper3k) (2021.5.30)\n",
            "Requirement already satisfied: filelock>=3.0.8 in /usr/local/lib/python3.7/dist-packages (from tldextract>=2.0.1->newspaper3k) (3.0.12)\n",
            "Requirement already satisfied: requests-file>=1.4 in /usr/local/lib/python3.7/dist-packages (from tldextract>=2.0.1->newspaper3k) (1.5.1)\n",
            "Requirement already satisfied: six in /usr/local/lib/python3.7/dist-packages (from feedfinder2>=0.0.4->newspaper3k) (1.15.0)\n",
            "Requirement already satisfied: sgmllib3k in /usr/local/lib/python3.7/dist-packages (from feedparser>=5.2.1->newspaper3k) (1.0.0)\n"
          ],
          "name": "stdout"
        }
      ]
    },
    {
      "cell_type": "code",
      "metadata": {
        "colab": {
          "base_uri": "https://localhost:8080/"
        },
        "id": "obz987ApLXUt",
        "outputId": "c74dfa81-b623-43b2-9557-a362429ad152"
      },
      "source": [
        "import nltk\n",
        "nltk.download(\"punkt\")\n",
        "\n",
        "from gtts import gTTS\n",
        "from newspaper.article import Article"
      ],
      "execution_count": 11,
      "outputs": [
        {
          "output_type": "stream",
          "text": [
            "[nltk_data] Downloading package punkt to /root/nltk_data...\n",
            "[nltk_data]   Package punkt is already up-to-date!\n"
          ],
          "name": "stdout"
        }
      ]
    },
    {
      "cell_type": "code",
      "metadata": {
        "id": "M9aWYs-RLtIo"
      },
      "source": [
        "article=Article(\"https://malijet.com/actualite_economique_du_mali/257732-le-g7-promet-80-milliards-de-dollars-d-investissements-dans-le-s.html\")\n",
        "article.download()"
      ],
      "execution_count": 13,
      "outputs": []
    },
    {
      "cell_type": "code",
      "metadata": {
        "id": "ybbWn45sNx4M"
      },
      "source": [
        "article.parse()\n",
        "article.nlp()\n"
      ],
      "execution_count": 16,
      "outputs": []
    },
    {
      "cell_type": "code",
      "metadata": {
        "colab": {
          "base_uri": "https://localhost:8080/"
        },
        "id": "sW-nc1qZOCDZ",
        "outputId": "36e1a9f6-f742-42a8-92e9-2fca0bd11c11"
      },
      "source": [
        "my_text=article.text\n",
        "print(my_text)\n",
        "langage=\"fr\"\n",
        "text_audio=gTTS(my_text,lang=langage)\n",
        "text_audio.save(\"text_audio.mp3\")"
      ],
      "execution_count": 21,
      "outputs": [
        {
          "output_type": "stream",
          "text": [
            "Par La Tribune Afrique\n",
            "\n",
            "Etalés sur cinq ans, les investissements devraient créer des emplois, stimuler la croissance, contribuer à la lutte contre le changement climatique et réduire la pauvreté.\n",
            "\n",
            "Les institutions de financement du développement (Development Finance Institutions - DFI) du G7, la SFI, la filiale de la Banque africaine de développement dédiée au secteur privé, la BERD et la Banque européenne d'investissement ont annoncé aujourd'hui qu'elles s'engageaient à investir 80 milliards de dollars dans le secteur privé africain au cours des cinq prochaines années afin de soutenir la reprise économique et une croissance durable en Afrique.\n",
            "\n",
            "Cette annonce constitue un engagement important pour soutenir les objectifs de développement à long terme des économies africaines affectées par la crise de Covid-19. Un communiqué conjoint de Proparco et CDC Group précise que c'est la première fois que les institutions de financement du développement du G7 se réunissent pour prendre un engagement partenarial collectif envers le continent africain.\n",
            "\n",
            "Le FMI estime que l'Afrique subsaharienne a besoin d'un financement supplémentaire d'environ 425 milliards de dollars d'ici à 2025 pour contribuer à renforcer la lutte contre la pandémie et réduire la pauvreté dans la région.\n",
            "\n",
            "Le ministre britannique pour l'Afrique, James Duddridge, a précisé à cette occasion que « cet investissement permettra de créer des emplois, de stimuler la croissance économique, de contribuer à la lutte contre le changement climatique et de combattre la pauvreté. Il intervient à un moment crucial où le continent reconstruit ses économies, gravement touchées par le Covid-19 ».\n",
            "\n",
            "Nick O'Donohoe, directeur général de CDC Group, a déclaré de son côté que « Le capital patient et de grande qualité que fournissent les institutions de financement du développement est nécessaire et urgent pour que les économies africaines puissent commencer à se reconstruire rapidement après l'impact de la pandémie ».\n",
            "\n",
            "Gregory Clemente, directeur général de Proparco, a pour sa part tenu à rappeler que « le groupe AFD est engagé depuis de nombreuses années en faveur d'une croissance durable sur le continent africain. Proparco est par conséquent très fière de participer à cet effort historique pour accroître le soutien des DFIs au secteur privé africain, qui a démontré sa capacité à créer des emplois, à lutter contre le changement climatique et à améliorer l'accès aux biens et services essentiels ».\n",
            "\n",
            "Comme annoncé par son président Werner Hoyer, l'engagement de la Banque européenne d'investissement (BEI), dans le cadre de la Team Europe, a représenté l'année dernière le plus important soutien jamais apporté à l'action en faveur du climat et aux investissements dans les Etats fragiles en 55 ans d'activité de la BEI sur le continent.\n",
            "\n",
            "Pour Makhtar Diop, directeur général de IFC, le secteur privé jouera un rôle majeur dans le financement de l'avenir de l'Afrique en créant des millions d'emplois qui sont essentiels pour assurer une croissance économique soutenue et la réduction de la pauvreté.\n",
            "\n",
            "Pour rappel, le groupe des DFIs du G7 est composé de Porpacro (France), CDC Group (Royaume-Uni), JICA et IBIC (Japon), DFC (Etats-Unis), FinDev (Canada), DEG (Allemagne, et CDP (Italie). Cet engagement de financement du secteur privé africain est également soutenu par l'IFC, la BAD, la BERD, et la BEI.\n",
            "\n",
            "Copyright Malijet © 2008 - 2021. Tous droits réservés\n"
          ],
          "name": "stdout"
        }
      ]
    },
    {
      "cell_type": "code",
      "metadata": {
        "id": "DzQmMIjZOdUi"
      },
      "source": [
        "summary_text=article.summary\n",
        "sum_audio=gTTS(summary_text,lang=langage)\n",
        "sum_audio.save(\"audio_du_résumé.mp3\")"
      ],
      "execution_count": 31,
      "outputs": []
    }
  ]
}